{
  "cells": [
    {
      "cell_type": "markdown",
      "metadata": {
        "id": "view-in-github",
        "colab_type": "text"
      },
      "source": [
        "<a href=\"https://colab.research.google.com/github/kwaldenphd/python-lists-strings/blob/main/python_lists_strings_template.ipynb\" target=\"_parent\"><img src=\"https://colab.research.google.com/assets/colab-badge.svg\" alt=\"Open In Colab\"/></a>"
      ]
    },
    {
      "cell_type": "markdown",
      "metadata": {
        "id": "wXOjJ-cvyCh5"
      },
      "source": [
        "# Lists and Strings in Python\n",
        "\n",
        "Student Name: **Enter Your Name Here (Double click to edit)**\n",
        "<br>\n",
        "Net ID: **Enter Your NetID Here (Double click to edit)**\n",
        "<br>"
      ]
    },
    {
      "cell_type": "markdown",
      "source": [
        "## Lab Notebook Questions"
      ],
      "metadata": {
        "id": "090jl3eF5ILi"
      }
    },
    {
      "cell_type": "markdown",
      "metadata": {
        "id": "qNQfBcrZyCh-"
      },
      "source": [
        "### **Q1: In your own words, explain the difference between `print(hello)` and `print(“hello”)`.**"
      ]
    },
    {
      "cell_type": "markdown",
      "metadata": {
        "id": "J7XT7ODHyCiA"
      },
      "source": [
        "**AnswerQ1**: Your answer here (double click to edit)"
      ]
    },
    {
      "cell_type": "code",
      "execution_count": null,
      "metadata": {
        "id": "KOTjLGqqyCiE"
      },
      "outputs": [],
      "source": [
        "# your codes here (if needed)"
      ]
    },
    {
      "cell_type": "markdown",
      "metadata": {
        "id": "ZBSshhY4yCiW"
      },
      "source": [
        "### **Q2: Describe the syntax of the three commands that we just used (steps 10-14) in your own words. What is this code doing? Define the function and method for each example.**"
      ]
    },
    {
      "cell_type": "markdown",
      "metadata": {
        "id": "-9no_CTzyCiZ"
      },
      "source": [
        "**AnswerQ2**: Your answer here (double click to edit)"
      ]
    },
    {
      "cell_type": "code",
      "execution_count": null,
      "metadata": {
        "id": "SeV9r8-SyCib"
      },
      "outputs": [],
      "source": [
        "# your codes here (if needed)"
      ]
    },
    {
      "cell_type": "markdown",
      "metadata": {
        "id": "WFOC5_ryyCid"
      },
      "source": [
        "### **Q3: Explain how each of these two programs (steps 15-18) work in your own words.**"
      ]
    },
    {
      "cell_type": "markdown",
      "metadata": {
        "id": "6O5Bdtv7yCie"
      },
      "source": [
        "**AnswerQ3:** Your answer here (double click to edit)"
      ]
    },
    {
      "cell_type": "code",
      "execution_count": null,
      "metadata": {
        "id": "fxEp2SyKyCit"
      },
      "outputs": [],
      "source": [
        "# your codes here (if needed)"
      ]
    },
    {
      "cell_type": "markdown",
      "metadata": {
        "id": "JcpdK2tQyCiv"
      },
      "source": [
        "### **Q4: Why does `print(2//3)` return `0`? How would you modify your code to return the decimal number? Why?**"
      ]
    },
    {
      "cell_type": "markdown",
      "metadata": {
        "id": "8qT_HSz8yCi2"
      },
      "source": [
        "**AnswerQ4:** Your answer here (double click to edit)"
      ]
    },
    {
      "cell_type": "code",
      "execution_count": null,
      "metadata": {
        "id": "3u0ybT9ByCi5"
      },
      "outputs": [],
      "source": [
        "# your codes here (if needed)"
      ]
    },
    {
      "cell_type": "markdown",
      "metadata": {
        "id": "YUi9bmAryCi9"
      },
      "source": [
        "### **Q5: Explain concatenation in your own words. Why must we convert numbers to strings in the program above? Refer to this example and the previous example.**"
      ]
    },
    {
      "cell_type": "markdown",
      "metadata": {
        "id": "XBasuy-YyCi_"
      },
      "source": [
        "**AnswerQ5:** Your answer here (double click to edit)"
      ]
    },
    {
      "cell_type": "code",
      "execution_count": null,
      "metadata": {
        "id": "YeleeUE2yCjC"
      },
      "outputs": [],
      "source": [
        "# your codes here (if needed)"
      ]
    },
    {
      "cell_type": "markdown",
      "metadata": {
        "id": "LomCeswByCjH"
      },
      "source": [
        "### **Q6: Write a program that converts integer, float, or boolean values to a string, using the `str()` function.**"
      ]
    },
    {
      "cell_type": "markdown",
      "metadata": {
        "id": "F8hCj6-lyCjK"
      },
      "source": [
        "**AnswerQ6:** Your answer here (double click to edit)"
      ]
    },
    {
      "cell_type": "code",
      "execution_count": null,
      "metadata": {
        "id": "Y8UnnstuyCjN"
      },
      "outputs": [],
      "source": [
        "# your codes here (if needed)"
      ]
    },
    {
      "cell_type": "markdown",
      "metadata": {
        "id": "Zmb8XF73yCjP"
      },
      "source": [
        "### **Q7: Write a program that prompts the user to enter a 6-letter word, and then prints the first, third, and fifth letters of that word.**"
      ]
    },
    {
      "cell_type": "markdown",
      "metadata": {
        "id": "wjMT2cLCyCjQ"
      },
      "source": [
        "**AnswerQ7:** Your answer here (double click to edit)"
      ]
    },
    {
      "cell_type": "code",
      "execution_count": null,
      "metadata": {
        "id": "ytPODsOoyCjR"
      },
      "outputs": [],
      "source": [
        "# your codes here (if needed)"
      ]
    },
    {
      "cell_type": "markdown",
      "metadata": {
        "id": "MdP0txZsyCjS"
      },
      "source": [
        "### **Q8: Modify the program to have it search for other characters in the string. Does it always return the index number you expect? What index is returned if you ask for the index of the letter u (i.e., what happens when the desired character appears more than once in the string)?**\n",
        "\n",
        "The conversion equation is: `celsius = (fahrenheit - 32.0) * 5.0 / 9.0`"
      ]
    },
    {
      "cell_type": "markdown",
      "metadata": {
        "id": "Qi8NGiyjyCjV"
      },
      "source": [
        "**AnswerQ8:** Your answer here (double click to edit)"
      ]
    },
    {
      "cell_type": "code",
      "execution_count": null,
      "metadata": {
        "id": "eRFj1FV1yCjW"
      },
      "outputs": [],
      "source": [
        "# your codes here (if needed)"
      ]
    },
    {
      "cell_type": "markdown",
      "metadata": {
        "id": "nQ4wr2DzyCjY"
      },
      "source": [
        "### **Q9: How would you modify this code to output the full range 1-10?**"
      ]
    },
    {
      "cell_type": "markdown",
      "metadata": {
        "id": "h3TrqQ0JyCja"
      },
      "source": [
        "**AnswerQ9:** Your answer here (double click to edit)"
      ]
    },
    {
      "cell_type": "code",
      "execution_count": null,
      "metadata": {
        "id": "heSufaNiyCjb"
      },
      "outputs": [],
      "source": [
        "# your codes here (if needed)"
      ]
    },
    {
      "cell_type": "markdown",
      "metadata": {
        "id": "mS1x6NSXyCje"
      },
      "source": [
        "### **Q10: How would you rewrite the code to include only the even numbers from 1 to 10?**"
      ]
    },
    {
      "cell_type": "markdown",
      "metadata": {
        "id": "5b6CFb4dyCje"
      },
      "source": [
        "**AnswerQ10:** Your answer here (double click to edit)"
      ]
    },
    {
      "cell_type": "code",
      "execution_count": null,
      "metadata": {
        "id": "0o_x4rkayCjf"
      },
      "outputs": [],
      "source": [
        "# your codes here (if needed)"
      ]
    },
    {
      "cell_type": "markdown",
      "metadata": {
        "id": "PATZ-sS5yCji"
      },
      "source": [
        "### <strong>Q11: Create the list `numbers` with the following values: `[[0, 1], [2, 3], [4, 5]]`\n",
        "<ol type=\"a\">\n",
        "  <li>What is the second element?</li>\n",
        "  <li>How would you change 4 to 'four'?</li>\n",
        "  <li>How would you change 1 to 'one'?</li>\n",
        "  <li>How would you print out each sub-list (one sub-list per line)?</li>\n",
        "  <li>How would you print out each number (one number per line)?</li>\n",
        " </ol></strong>"
      ]
    },
    {
      "cell_type": "markdown",
      "metadata": {
        "id": "9V-Kb-tUyCjj"
      },
      "source": [
        "**AnswerQ11:** Your answer here (double click to edit)"
      ]
    },
    {
      "cell_type": "code",
      "execution_count": null,
      "metadata": {
        "id": "V0rugCfmyCjl"
      },
      "outputs": [],
      "source": [
        "# your codes here (if needed)"
      ]
    },
    {
      "cell_type": "markdown",
      "metadata": {
        "id": "moqDnf9wyCjp"
      },
      "source": [
        "### **Q12: Create your own list of numbers. Include your list code as part of this question answer. What is the length of your list? What is the number position for each of the items in your list? How would you return the value of the first item? How would you return the value of the last item?**"
      ]
    },
    {
      "cell_type": "markdown",
      "metadata": {
        "id": "FqxTyBSVyCjq"
      },
      "source": [
        "**AnswerQ12:** Your answer here (double click to edit)"
      ]
    },
    {
      "cell_type": "code",
      "execution_count": null,
      "metadata": {
        "id": "4Mwc1q-qyCjr"
      },
      "outputs": [],
      "source": [
        "# your codes here (if needed)"
      ]
    },
    {
      "cell_type": "markdown",
      "metadata": {
        "id": "yrVxxQP5yCjt"
      },
      "source": [
        "### <strong>Q13: Using the same list from the previous question, write a program that includes the following steps or components:\n",
        "<ol type=\"a\">\n",
        " <li>Adds a new item to your list</li>\n",
        " <li>Deletes an item from your list</li>\n",
        " <li>Sorts your list in-place</li>\n",
        " <li>Reverses your list in-place</li>\n",
        " <li>Determines the <code>min</code> and <code>max</code> values for your list</li>\n",
        " <li>Selects an list element at random</li>\n",
        " <li>Shuffles your list</li>\n",
        "</ol></strong>"
      ]
    },
    {
      "cell_type": "markdown",
      "metadata": {
        "id": "5KprEOVsyCju"
      },
      "source": [
        "**AnswerQ13:** Your answer here (double click to edit)"
      ]
    },
    {
      "cell_type": "code",
      "execution_count": null,
      "metadata": {
        "id": "fD1Z14-iyCjv"
      },
      "outputs": [],
      "source": [
        "# your codes here (if needed)"
      ]
    },
    {
      "cell_type": "markdown",
      "metadata": {
        "id": "UZTTlA3hyCjw"
      },
      "source": [
        "### **Q14: Create your own list of strings. Include your list code as part of this question answer. What is the length of your list? What is the number position for each of the items in your list? How would you return the value of the first item? How would you return the value of the last item?**"
      ]
    },
    {
      "cell_type": "markdown",
      "metadata": {
        "id": "gUxsHSt3yCjy"
      },
      "source": [
        "**AnswerQ14:** Your answer here (double click to edit)"
      ]
    },
    {
      "cell_type": "code",
      "execution_count": null,
      "metadata": {
        "id": "ualfEuQkyCjz"
      },
      "outputs": [],
      "source": [
        "# your codes here (if needed)"
      ]
    },
    {
      "cell_type": "markdown",
      "metadata": {
        "id": "NgQh6kxQyCj0"
      },
      "source": [
        "### <strong>Q15: Using the same list from the previous question, write a program that includes the following steps or components:\n",
        "<ol type=\"a\">\n",
        " <li>Adds a new item to your list</li>\n",
        " <li>Deletes an item from your list</li>\n",
        " <li>Sorts your list in-place</li>\n",
        " <li>Generates a sorted version of your list</li>\n",
        " <li>Reverses your list in-place</li>\n",
        " <li>Determines the <code>min</code> and <code>max</code> values for your list</li>\n",
        " <li>Selects an list element at random</li>\n",
        " <li>Shuffles your list</li>\n",
        "</ol></strong>"
      ]
    },
    {
      "cell_type": "markdown",
      "metadata": {
        "id": "4jQMDDPwyCj3"
      },
      "source": [
        "**AnswerQ15:** Your answer here (double click to edit)"
      ]
    },
    {
      "cell_type": "code",
      "execution_count": null,
      "metadata": {
        "id": "ZwekmzUhyCj5"
      },
      "outputs": [],
      "source": [
        "# your codes here (if needed)"
      ]
    },
    {
      "cell_type": "markdown",
      "metadata": {
        "id": "g2eDk4vTyCj8"
      },
      "source": [
        "### <strong>Q16: What is the difference between a list and a string? What are some methods you can perform on a list  that you can't do with a string (and vice versa)?</strong>"
      ]
    },
    {
      "cell_type": "markdown",
      "metadata": {
        "id": "zC5IK4isyCj9"
      },
      "source": [
        "**AnswerQ16:** Your answer here (double click to edit)"
      ]
    },
    {
      "cell_type": "code",
      "execution_count": null,
      "metadata": {
        "id": "7WJFqsNbyCj-"
      },
      "outputs": [],
      "source": [
        "# your codes here (if needed)"
      ]
    }
  ],
  "metadata": {
    "kernelspec": {
      "display_name": "Python 3",
      "language": "python",
      "name": "python3"
    },
    "language_info": {
      "codemirror_mode": {
        "name": "ipython",
        "version": 3
      },
      "file_extension": ".py",
      "mimetype": "text/x-python",
      "name": "python",
      "nbconvert_exporter": "python",
      "pygments_lexer": "ipython3",
      "version": "3.8.5"
    },
    "colab": {
      "name": "python-lists-strings-template.ipynb",
      "provenance": [],
      "toc_visible": true,
      "include_colab_link": true
    }
  },
  "nbformat": 4,
  "nbformat_minor": 0
}